{
 "cells": [
  {
   "cell_type": "markdown",
   "metadata": {},
   "source": [
    "The first approach is similar to the one used by C19. We fitted the\n",
    "RV data using Keplerians for the planetary signals and a GP with\n",
    "a quasi-periodic kernel for the stellar activity. The mathematical\n",
    "expression of the kernel of this GP is\n",
    "\n",
    "$$\n",
    "GP(t_i, t_j) = \\eta_1^2 exp[-\\frac{|t_i-t_j|^2}{\\eta_2^2} -\\frac{sin^2(\\pi|t_i-t_j|/\\eta_3)}{2\\eta_4^2}] \n",
    "$$\n",
    "\n",
    "$$\n",
    "\\eta_1 = \\text{amplitude of the covariance; Arv}\n",
    "$$\n",
    "$$\n",
    "\\eta_2 = \\text{decay timescale; } \\tau_{\\text{decay}}\n",
    "$$\n",
    "$$\n",
    "\\eta_3 = \\text{period of recurrence of the covariance; } P_{\\text{rot}}\n",
    "$$\n",
    "$$\n",
    "\\eta_4 = \\text{periodic coherence scale; } \\gamma\n",
    "$$\n",
    "\n",
    "\n",
    "where Arv is the amplitude of the covariance, τdecay is the decay timescale, Prot is the period of recurrence of the covariance,\n",
    "and γ is the periodic coherence scale (e.g., Grunblatt et al. 2015).\n",
    "We used the Python package george"
   ]
  },
  {
   "cell_type": "code",
   "execution_count": 1,
   "metadata": {},
   "outputs": [],
   "source": [
    "import pandas as pd"
   ]
  },
  {
   "cell_type": "code",
   "execution_count": 3,
   "metadata": {},
   "outputs": [],
   "source": [
    "pre_df = pd.read_csv('../dataset/ESPRESSO/cleaned_espresso_post.csv')"
   ]
  },
  {
   "cell_type": "code",
   "execution_count": null,
   "metadata": {},
   "outputs": [],
   "source": []
  }
 ],
 "metadata": {
  "kernelspec": {
   "display_name": "rv-env",
   "language": "python",
   "name": "python3"
  },
  "language_info": {
   "codemirror_mode": {
    "name": "ipython",
    "version": 3
   },
   "file_extension": ".py",
   "mimetype": "text/x-python",
   "name": "python",
   "nbconvert_exporter": "python",
   "pygments_lexer": "ipython3",
   "version": "3.8.18"
  }
 },
 "nbformat": 4,
 "nbformat_minor": 2
}
