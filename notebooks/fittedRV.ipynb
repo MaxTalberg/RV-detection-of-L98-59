{
 "cells": [
  {
   "cell_type": "markdown",
   "metadata": {},
   "source": [
    "The first approach is similar to the one used by C19. We fitted the\n",
    "RV data using Keplerians for the planetary signals and a GP with\n",
    "a quasi-periodic kernel for the stellar activity. The mathematical\n",
    "expression of the kernel of this GP is\n",
    "\n",
    "$$\n",
    "GP(t_i, t_j) = \\eta_1^2 exp[-\\frac{|t_i-t_j|^2}{\\eta_2^2} -\\frac{sin^2(\\pi|t_i-t_j|/\\eta_3)}{2\\eta_4^2}] \n",
    "$$\n",
    "\n",
    "$$\n",
    "\\eta_1 = \\text{amplitude of the covariance; Arv}\n",
    "$$\n",
    "$$\n",
    "\\eta_2 = \\text{decay timescale; } \\tau_{\\text{decay}}\n",
    "$$\n",
    "$$\n",
    "\\eta_3 = \\text{period of recurrence of the covariance; } P_{\\text{rot}}\n",
    "$$\n",
    "$$\n",
    "\\eta_4 = \\text{periodic coherence scale; } \\gamma\n",
    "$$\n",
    "\n",
    "\n",
    "where Arv is the amplitude of the covariance, τdecay is the decay timescale, Prot is the period of recurrence of the covariance,\n",
    "and γ is the periodic coherence scale (e.g., Grunblatt et al. 2015).\n",
    "We used the Python package george"
   ]
  },
  {
   "cell_type": "code",
   "execution_count": null,
   "metadata": {},
   "outputs": [],
   "source": []
  }
 ],
 "metadata": {
  "language_info": {
   "name": "python"
  }
 },
 "nbformat": 4,
 "nbformat_minor": 2
}
