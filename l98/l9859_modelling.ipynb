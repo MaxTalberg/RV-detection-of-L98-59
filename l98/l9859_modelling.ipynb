{
 "cells": [
  {
   "cell_type": "markdown",
   "metadata": {},
   "source": [
    "## L98-59 Modelling\n",
    "\n",
    "This notebook will contain the analysis of the L98-59 system. This project utilises data from HARPS and ESPRESSO, the analysis will be done using the RadVel package. "
   ]
  },
  {
   "cell_type": "markdown",
   "metadata": {},
   "source": [
    "### Get the data\n",
    "\n",
    "##### HARPS data\n",
    "\n",
    "$\\bold{\\text{Program IDs:}}$ 198.C-0838, 1102.C-0339, and 0102.C-0525\n",
    "\n",
    "$\\bold{\\text{Observation Dates:}}$ Between October 17, 2018 (BJD = 2458408.5) and April 28, 2019 (BJD = 2458601.5)\n",
    "\n",
    "##### ESPRESSO data\n",
    "\n",
    "$\\bold{\\text{Program IDs:}}$  1102.C-0744, 1102.C-0958, and 1104.C-0350\n",
    "\n",
    "$\\bold{\\text{Observation Dates:}}$ Between November 14, 2018 (BJD = 2458436.5), and March 4, 2020\n",
    "(BJD = 2458912.5)\n",
    "\n",
    "\n",
    "##### Data Access\n",
    "https://archive.eso.org/cms.html\n"
   ]
  },
  {
   "cell_type": "code",
   "execution_count": 1,
   "metadata": {},
   "outputs": [],
   "source": [
    "import astropy.io.fits as fits\n",
    "import numpy as np\n",
    "import matplotlib.pyplot as plt"
   ]
  },
  {
   "cell_type": "code",
   "execution_count": null,
   "metadata": {},
   "outputs": [],
   "source": []
  }
 ],
 "metadata": {
  "kernelspec": {
   "display_name": "rv-env",
   "language": "python",
   "name": "python3"
  },
  "language_info": {
   "codemirror_mode": {
    "name": "ipython",
    "version": 3
   },
   "file_extension": ".py",
   "mimetype": "text/x-python",
   "name": "python",
   "nbconvert_exporter": "python",
   "pygments_lexer": "ipython3",
   "version": "3.8.19"
  }
 },
 "nbformat": 4,
 "nbformat_minor": 2
}
